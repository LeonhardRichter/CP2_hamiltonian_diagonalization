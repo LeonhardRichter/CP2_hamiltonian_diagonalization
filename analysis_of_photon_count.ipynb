{
 "cells": [
  {
   "cell_type": "code",
   "execution_count": 1,
   "metadata": {},
   "outputs": [],
   "source": [
    "import matplotlib.pyplot as plt\n",
    "import numpy as np\n",
    "from scipy import sparse\n",
    "\n",
    "from dicke import (\n",
    "    dicke_dim,\n",
    "    dicke_excited,\n",
    "    dicke_hamiltonian,\n",
    "    dicke_superradiant,\n",
    "    num,\n",
    ")\n",
    "from lanczos import lanczos_evo\n"
   ]
  },
  {
   "cell_type": "code",
   "execution_count": 2,
   "metadata": {},
   "outputs": [],
   "source": [
    "def n_max(N):\n",
    "    return 2 * N\n",
    "\n",
    "\n",
    "lanczos_iterations = 10\n",
    "\n",
    "\n",
    "def time_step(T):\n",
    "    return T / 100"
   ]
  },
  {
   "cell_type": "code",
   "execution_count": 3,
   "metadata": {},
   "outputs": [
    {
     "name": "stderr",
     "output_type": "stream",
     "text": [
      "  0%|          | 0/100.0 [00:00<?, ?it/s]"
     ]
    },
    {
     "name": "stderr",
     "output_type": "stream",
     "text": [
      "101it [00:00, 1594.48it/s]               \n"
     ]
    }
   ],
   "source": [
    "N = 10\n",
    "initial_photons = 0\n",
    "n = initial_photons\n",
    "freq = 1\n",
    "coup = 1\n",
    "T = 10\n",
    "\n",
    "H = dicke_hamiltonian(N, n_max(N), coupling=coup, frequency=freq)\n",
    "photon_state = np.zeros(n_max(N) + 1)\n",
    "photon_state[0] = 1\n",
    "spin_state = dicke_excited(N)\n",
    "state = np.kron(spin_state, photon_state)\n",
    "\n",
    "id_o_num = sparse.kron(sparse.eye_array(dicke_dim(N)), num(n_max(N)))\n",
    "\n",
    "tt, vt, exp = lanczos_evo(\n",
    "    H,\n",
    "    state,\n",
    "    observables=(id_o_num,),\n",
    "    dim=lanczos_iterations + 1,\n",
    "    T=T,\n",
    "    dt=time_step(T),\n",
    "    return_final=False,\n",
    "    save_states=False,\n",
    ")"
   ]
  },
  {
   "cell_type": "code",
   "execution_count": 4,
   "metadata": {},
   "outputs": [
    {
     "data": {
      "image/png": "[encoded data removed]",
      "text/plain": [
       "<Figure size 640x480 with 1 Axes>"
      ]
     },
     "metadata": {},
     "output_type": "display_data"
    }
   ],
   "source": [
    "plt.scatter(tt, np.real_if_close(exp[0]))\n",
    "plt.show()"
   ]
  },
  {
   "cell_type": "code",
   "execution_count": 5,
   "metadata": {},
   "outputs": [
    {
     "data": {
      "text/plain": [
       "[0,\n",
       " 0.2,\n",
       " 0.30000000000000004,\n",
       " 0.4,\n",
       " 0.5,\n",
       " 0.6,\n",
       " 0.7,\n",
       " 0.7999999999999999,\n",
       " 0.8999999999999999,\n",
       " 0.9999999999999999,\n",
       " 1.0999999999999999,\n",
       " 1.2,\n",
       " 1.3,\n",
       " 1.4000000000000001,\n",
       " 1.5000000000000002,\n",
       " 1.6000000000000003,\n",
       " 1.7000000000000004,\n",
       " 1.8000000000000005,\n",
       " 1.9000000000000006,\n",
       " 2.0000000000000004,\n",
       " 2.1000000000000005,\n",
       " 2.2000000000000006,\n",
       " 2.3000000000000007,\n",
       " 2.400000000000001,\n",
       " 2.500000000000001,\n",
       " 2.600000000000001,\n",
       " 2.700000000000001,\n",
       " 2.800000000000001,\n",
       " 2.9000000000000012,\n",
       " 3.0000000000000013,\n",
       " 3.1000000000000014,\n",
       " 3.2000000000000015,\n",
       " 3.3000000000000016,\n",
       " 3.4000000000000017,\n",
       " 3.5000000000000018,\n",
       " 3.600000000000002,\n",
       " 3.700000000000002,\n",
       " 3.800000000000002,\n",
       " 3.900000000000002,\n",
       " 4.000000000000002,\n",
       " 4.100000000000001,\n",
       " 4.200000000000001,\n",
       " 4.300000000000001,\n",
       " 4.4,\n",
       " 4.5,\n",
       " 4.6,\n",
       " 4.699999999999999,\n",
       " 4.799999999999999,\n",
       " 4.899999999999999,\n",
       " 4.999999999999998,\n",
       " 5.099999999999998,\n",
       " 5.1999999999999975,\n",
       " 5.299999999999997,\n",
       " 5.399999999999997,\n",
       " 5.4999999999999964,\n",
       " 5.599999999999996,\n",
       " 5.699999999999996,\n",
       " 5.799999999999995,\n",
       " 5.899999999999995,\n",
       " 5.999999999999995,\n",
       " 6.099999999999994,\n",
       " 6.199999999999994,\n",
       " 6.299999999999994,\n",
       " 6.399999999999993,\n",
       " 6.499999999999993,\n",
       " 6.5999999999999925,\n",
       " 6.699999999999992,\n",
       " 6.799999999999992,\n",
       " 6.8999999999999915,\n",
       " 6.999999999999991,\n",
       " 7.099999999999991,\n",
       " 7.19999999999999,\n",
       " 7.29999999999999,\n",
       " 7.39999999999999,\n",
       " 7.499999999999989,\n",
       " 7.599999999999989,\n",
       " 7.699999999999989,\n",
       " 7.799999999999988,\n",
       " 7.899999999999988,\n",
       " 7.999999999999988,\n",
       " 8.099999999999987,\n",
       " 8.199999999999987,\n",
       " 8.299999999999986,\n",
       " 8.399999999999986,\n",
       " 8.499999999999986,\n",
       " 8.599999999999985,\n",
       " 8.699999999999985,\n",
       " 8.799999999999985,\n",
       " 8.899999999999984,\n",
       " 8.999999999999984,\n",
       " 9.099999999999984,\n",
       " 9.199999999999983,\n",
       " 9.299999999999983,\n",
       " 9.399999999999983,\n",
       " 9.499999999999982,\n",
       " 9.599999999999982,\n",
       " 9.699999999999982,\n",
       " 9.799999999999981,\n",
       " 9.89999999999998,\n",
       " 9.99999999999998,\n",
       " 10.09999999999998,\n",
       " 10.0]"
      ]
     },
     "execution_count": 5,
     "metadata": {},
     "output_type": "execute_result"
    }
   ],
   "source": [
    "tt"
   ]
  },
  {
   "cell_type": "code",
   "execution_count": null,
   "metadata": {},
   "outputs": [],
   "source": []
  }
 ],
 "metadata": {
  "kernelspec": {
   "display_name": ".venv",
   "language": "python",
   "name": "python3"
  },
  "language_info": {
   "codemirror_mode": {
    "name": "ipython",
    "version": 3
   },
   "file_extension": ".py",
   "mimetype": "text/x-python",
   "name": "python",
   "nbconvert_exporter": "python",
   "pygments_lexer": "ipython3",
   "version": "3.13.1"
  }
 },
 "nbformat": 4,
 "nbformat_minor": 2
}
